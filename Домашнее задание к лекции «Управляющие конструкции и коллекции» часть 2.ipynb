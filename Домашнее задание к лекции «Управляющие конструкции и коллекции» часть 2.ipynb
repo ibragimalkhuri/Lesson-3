{
 "cells": [
  {
   "cell_type": "markdown",
   "metadata": {},
   "source": [
    "# Задание 1"
   ]
  },
  {
   "cell_type": "code",
   "execution_count": 207,
   "metadata": {},
   "outputs": [
    {
     "name": "stdout",
     "output_type": "stream",
     "text": [
      "{98, 35, 213, 54, 119, 15}\n"
     ]
    }
   ],
   "source": [
    "ids = ({ 'user1': [213, 213, 213, 15, 213],\n",
    "        'user2': [54, 54, 119, 119, 119],\n",
    "        'user3': [213, 98, 98, 35]\n",
    "      })\n",
    "\n",
    "set_final = set()\n",
    "for i,y in ids.items():\n",
    "    set_final.update(set(y))\n",
    "   \n",
    "print(set_final)    \n",
    "        "
   ]
  },
  {
   "cell_type": "markdown",
   "metadata": {},
   "source": [
    "# Задание 2"
   ]
  },
  {
   "cell_type": "code",
   "execution_count": 220,
   "metadata": {},
   "outputs": [
    {
     "name": "stdout",
     "output_type": "stream",
     "text": [
      "Поисковых запросов, содержащих 2 слов(а): 42.86 %\n",
      "Поисковых запросов, содержащих 2 слов(а): 57.14 %\n"
     ]
    }
   ],
   "source": [
    "queries = [\n",
    "'смотреть сериалы онлайн',\n",
    "'новости спорта',\n",
    "'афиша кино',\n",
    "'курс доллара',\n",
    "'сериалы этим летом',\n",
    "'курс по питону',\n",
    "'сериалы про спорт',\n",
    "]\n",
    "\n",
    "\n",
    "two = 0\n",
    "three = 0 \n",
    "for i in queries:\n",
    "    split_list = i.split(' ')\n",
    "    if len(split_list) == 2:\n",
    "        two+=1\n",
    "    elif len(split_list)==3:\n",
    "        three+=1\n",
    "\n",
    "print(f'Поисковых запросов, содержащих 2 слов(а): {round((two/(two+three))*100,2)} %')\n",
    "print(f'Поисковых запросов, содержащих 2 слов(а): {round((three/(two+three))*100,2)} %')\n",
    "    \n",
    "\n",
    "\n"
   ]
  },
  {
   "cell_type": "markdown",
   "metadata": {},
   "source": [
    "# Задание 3"
   ]
  },
  {
   "cell_type": "code",
   "execution_count": 222,
   "metadata": {},
   "outputs": [
    {
     "name": "stdout",
     "output_type": "stream",
     "text": [
      "[('vk', {'revenue': 103, 'cost': 98, 'roi': 5.1}), ('yandex', {'revenue': 179, 'cost': 153, 'roi': 16.99}), ('facebook', {'revenue': 103, 'cost': 110, 'roi': -6.36}), ('dwords', {'revenue': 35, 'cost': 34, 'roi': 2.94}), ('twitter', {'revenue': 11, 'cost': 24, 'roi': -54.17})]\n"
     ]
    }
   ],
   "source": [
    "results = {\n",
    "'vk': {'revenue': 103, 'cost': 98},\n",
    "'yandex': {'revenue': 179, 'cost': 153},\n",
    "'facebook': {'revenue': 103, 'cost': 110},\n",
    "'dwords': {'revenue': 35, 'cost': 34},\n",
    "'twitter': {'revenue': 11, 'cost': 24},\n",
    "}\n",
    "\n",
    "\n",
    "for x,y in results.items():\n",
    "    roi_calc = round(((y['revenue']/y['cost'])-1)*100,2)\n",
    "    results[x]['roi'] = roi_calc\n",
    "\n",
    "print(list(results.items()))    "
   ]
  },
  {
   "cell_type": "markdown",
   "metadata": {},
   "source": [
    "# Задание 4"
   ]
  },
  {
   "cell_type": "code",
   "execution_count": 242,
   "metadata": {},
   "outputs": [
    {
     "name": "stdout",
     "output_type": "stream",
     "text": [
      "Максимальный объем продаж на рекламном канале: vk\n"
     ]
    }
   ],
   "source": [
    "stats = {\n",
    "        'facebook': 55, \n",
    "        'yandex': 115, \n",
    "        'vk': 120, \n",
    "        'google': 99, \n",
    "        'email': 42, \n",
    "        'ok': 98}\n",
    "\n",
    "max_value = max(stats.values())\n",
    "for i in stats.items():\n",
    "    if i[1] == max_value:\n",
    "        s = i\n",
    "    else:\n",
    "        pass\n",
    "print(f'Максимальный объем продаж на рекламном канале: {s[0]}')\n"
   ]
  },
  {
   "cell_type": "code",
   "execution_count": null,
   "metadata": {},
   "outputs": [],
   "source": []
  }
 ],
 "metadata": {
  "kernelspec": {
   "display_name": "Python 3",
   "language": "python",
   "name": "python3"
  },
  "language_info": {
   "codemirror_mode": {
    "name": "ipython",
    "version": 3
   },
   "file_extension": ".py",
   "mimetype": "text/x-python",
   "name": "python",
   "nbconvert_exporter": "python",
   "pygments_lexer": "ipython3",
   "version": "3.8.3"
  }
 },
 "nbformat": 4,
 "nbformat_minor": 4
}
